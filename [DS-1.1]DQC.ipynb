{
 "cells": [
  {
   "cell_type": "code",
   "execution_count": 1,
   "id": "9c34634d",
   "metadata": {},
   "outputs": [],
   "source": [
    "import pandas as pd\n",
    "import numpy as np\n",
    "import matplotlib.pyplot as plt\n",
    "import seaborn as sns"
   ]
  },
  {
   "cell_type": "code",
   "execution_count": 2,
   "id": "df1cc4b9",
   "metadata": {},
   "outputs": [
    {
     "name": "stdout",
     "output_type": "stream",
     "text": [
      "dict_keys(['items', 'item_categories', 'sales_train', 'sample_submission', 'shops', 'test'])\n"
     ]
    }
   ],
   "source": [
    "import os\n",
    "\n",
    "def open_files_in_dir(path):\n",
    "    files = {}\n",
    "    with os.scandir(path) as entries:\n",
    "        for entry in entries:\n",
    "            if entry.is_file():\n",
    "                files[entry.name.split('.')[0]] = pd.read_csv(entry)\n",
    "    return files\n",
    "\n",
    "basepath = 'C:/datasets/sales/'\n",
    "files_sales = open_files_in_dir(basepath)\n",
    "print(files_sales.keys())"
   ]
  },
  {
   "cell_type": "markdown",
   "id": "4ea4d0c5",
   "metadata": {},
   "source": [
    "## DQC class"
   ]
  },
  {
   "cell_type": "markdown",
   "id": "22525dd1",
   "metadata": {},
   "source": [
    "At first, we can create class which will encapsulate some information about given files."
   ]
  },
  {
   "cell_type": "code",
   "execution_count": 3,
   "id": "a935cfa9",
   "metadata": {},
   "outputs": [],
   "source": [
    "class DQC:\n",
    "    \n",
    "    def __init__(this, our_files):\n",
    "        this.files = our_files\n",
    "    \n",
    "    def print_head(this, table_name):\n",
    "        print(this.files[table_name].head())\n",
    "        \n",
    "    def are_there_any_duplicates(this):\n",
    "        \n",
    "        sum_of_dupl = 0\n",
    "        tables = []\n",
    "        \n",
    "        for file in this.files:\n",
    "            if this.files[file].duplicated().sum()!=0:\n",
    "                tables.append(file)\n",
    "                sum_of_dupl += this.files[file].duplicated().sum()\n",
    "                \n",
    "            else: sum_of_dupl += this.files[file].duplicated().sum()\n",
    "                \n",
    "        return f\"The amount of duplicated data in all the tables: {sum_of_dupl}; Tables with duplicates: {tables}\"\n",
    "    \n",
    "    def are_there_any_null_values(this):\n",
    "        \n",
    "        info = []\n",
    "        \n",
    "        for file in this.files:\n",
    "            info.append(f\"Table {file} contains {this.files[file].isna().sum().sum()} empty raws\")\n",
    "            \n",
    "        return info\n",
    "    \n",
    "    def are_there_any_outliers(this):\n",
    "        \n",
    "        num_columns = {}\n",
    "        for file in this.files:\n",
    "            temp_table = this.files[file]\n",
    "            for col in temp_table.columns:\n",
    "                if (temp_table[col].dtype != \"O\") and ('id' not in col and col!='ID'):\n",
    "                    if (file in num_columns.keys()):\n",
    "                        num_columns[file].append(col)\n",
    "                    else:\n",
    "                        num_columns[file] = [col]\n",
    "                        \n",
    "        for file in this.files:\n",
    "            if file in num_columns.keys():\n",
    "                plt.figure()\n",
    "                plt.title(f\"Boxplot for {file} table\")\n",
    "                sns.boxplot(data = this.files[file][num_columns[file]])\n",
    "            else:\n",
    "                print(f'There are no numeric columns in {file} table')\n",
    "        \n",
    "    def columns_type_and_structure(this):\n",
    "        \n",
    "        for file in this.files:\n",
    "            print(f'Table \"{file}\" with {this.files[file].shape[0]} values:')\n",
    "            print(this.files[file].dtypes)\n",
    "            print('\\n')\n",
    "            \n",
    "    def are_there_any_negative_values(this):\n",
    "        \n",
    "        temp_table = this.files['sales_train']\n",
    "        for col in temp_table.columns:\n",
    "            if temp_table[col].dtype != \"O\":\n",
    "                negs =  len(temp_table[temp_table[col]<0])\n",
    "                print(f\"The precent of negative values in sales_train table in {col} column: {round(negs*100/len(temp_table),5)}\")\n",
    "                if negs!=0: \n",
    "                    print('\\n')\n",
    "                    print(temp_table[temp_table[col]<0].head())\n",
    "                    print('\\n')\n",
    "                    \n",
    "    def the_returned(this):\n",
    "        \n",
    "        sales_train = this.files['sales_train']\n",
    "        returned = sales_train[sales_train['item_cnt_day']<=0]\n",
    "        \n",
    "        return returned\n",
    "    \n",
    "    def is_actually_a_return(this):\n",
    "        \n",
    "        returned = this.the_returned()\n",
    "        colors = sns.color_palette('pastel')[0:5]\n",
    "        \n",
    "        plt.figure()\n",
    "        plt.title('Item ids:')\n",
    "        plt.pie(returned['item_id'].value_counts().head(), labels = returned['item_id'].value_counts().head().index, colors = colors)\n",
    "        \n",
    "        plt.figure()\n",
    "        plt.title('Shop ids:')\n",
    "        plt.pie(returned['shop_id'].value_counts().head(), labels = returned['shop_id'].value_counts().head().index, colors = colors)\n",
    "        \n",
    "        dif_date = returned['date'].nunique()\n",
    "        print('Amount of unique dates:',dif_date)\n",
    "        \n",
    "    def consistancy_info(this):\n",
    "        \n",
    "        for file in this.files:\n",
    "            for col in this.files[file].columns:\n",
    "                if '_id' in col:\n",
    "                    print(f'{col} of {file} has {this.files[file][col].nunique()} unique values')\n",
    "    \n",
    "    def sales_per_time_visualisation(this):\n",
    "        pass\n"
   ]
  },
  {
   "cell_type": "markdown",
   "id": "d9493f83",
   "metadata": {},
   "source": [
    "## DQC methods"
   ]
  },
  {
   "cell_type": "code",
   "execution_count": 4,
   "id": "1162baf5",
   "metadata": {},
   "outputs": [],
   "source": [
    "dqc = DQC(files_sales)"
   ]
  },
  {
   "cell_type": "code",
   "execution_count": 5,
   "id": "303d53d8",
   "metadata": {},
   "outputs": [
    {
     "name": "stdout",
     "output_type": "stream",
     "text": [
      "Table \"items\" with 22170 values:\n",
      "item_name           object\n",
      "item_id              int64\n",
      "item_category_id     int64\n",
      "dtype: object\n",
      "\n",
      "\n",
      "Table \"item_categories\" with 84 values:\n",
      "item_category_name    object\n",
      "item_category_id       int64\n",
      "dtype: object\n",
      "\n",
      "\n",
      "Table \"sales_train\" with 2935849 values:\n",
      "date               object\n",
      "date_block_num      int64\n",
      "shop_id             int64\n",
      "item_id             int64\n",
      "item_price        float64\n",
      "item_cnt_day      float64\n",
      "dtype: object\n",
      "\n",
      "\n",
      "Table \"sample_submission\" with 214200 values:\n",
      "ID                  int64\n",
      "item_cnt_month    float64\n",
      "dtype: object\n",
      "\n",
      "\n",
      "Table \"shops\" with 60 values:\n",
      "shop_name    object\n",
      "shop_id       int64\n",
      "dtype: object\n",
      "\n",
      "\n",
      "Table \"test\" with 214200 values:\n",
      "ID         int64\n",
      "shop_id    int64\n",
      "item_id    int64\n",
      "dtype: object\n",
      "\n",
      "\n"
     ]
    }
   ],
   "source": [
    "dqc.columns_type_and_structure()"
   ]
  },
  {
   "cell_type": "markdown",
   "id": "4d8f78bd",
   "metadata": {},
   "source": [
    "6 tables, 2 of them contain test values.\n",
    "\n",
    "There are 2935849 values in train set and 214200 in test set (about 14:1).\n",
    "\n",
    "In test values we have amount of sold items in a month while in training set we use daily measure. Date is an object, can be converted in datetime type, then we also can lessen periods of time from date to look at some dynamics."
   ]
  },
  {
   "cell_type": "code",
   "execution_count": 6,
   "id": "0bb8956e",
   "metadata": {},
   "outputs": [
    {
     "name": "stdout",
     "output_type": "stream",
     "text": [
      "item_id of items has 22170 unique values\n",
      "item_category_id of items has 84 unique values\n",
      "item_category_id of item_categories has 84 unique values\n",
      "shop_id of sales_train has 60 unique values\n",
      "item_id of sales_train has 21807 unique values\n",
      "shop_id of shops has 60 unique values\n",
      "shop_id of test has 42 unique values\n",
      "item_id of test has 5100 unique values\n"
     ]
    }
   ],
   "source": [
    "dqc.consistancy_info()"
   ]
  },
  {
   "cell_type": "markdown",
   "id": "50fbae18",
   "metadata": {},
   "source": [
    "From amount of unique values we can assume that there are enough information in tables for merging them on ids."
   ]
  },
  {
   "cell_type": "code",
   "execution_count": 7,
   "id": "e695feda",
   "metadata": {},
   "outputs": [
    {
     "name": "stdout",
     "output_type": "stream",
     "text": [
      "         date  date_block_num  shop_id  item_id  item_price  item_cnt_day\n",
      "0  02.01.2013               0       59    22154      999.00           1.0\n",
      "1  03.01.2013               0       25     2552      899.00           1.0\n",
      "2  05.01.2013               0       25     2552      899.00          -1.0\n",
      "3  06.01.2013               0       25     2554     1709.05           1.0\n",
      "4  15.01.2013               0       25     2555     1099.00           1.0\n"
     ]
    }
   ],
   "source": [
    "dqc.print_head('sales_train')"
   ]
  },
  {
   "cell_type": "markdown",
   "id": "6d673dcb",
   "metadata": {},
   "source": [
    "From first 5 rows we already see that there are returns (neg item_cnt_day). We can look at it closely."
   ]
  },
  {
   "cell_type": "code",
   "execution_count": 8,
   "id": "d212c987",
   "metadata": {},
   "outputs": [
    {
     "name": "stdout",
     "output_type": "stream",
     "text": [
      "The precent of negative values in sales_train table in date_block_num column: 0.0\n",
      "The precent of negative values in sales_train table in shop_id column: 0.0\n",
      "The precent of negative values in sales_train table in item_id column: 0.0\n",
      "The precent of negative values in sales_train table in item_price column: 3e-05\n",
      "\n",
      "\n",
      "              date  date_block_num  shop_id  item_id  item_price  item_cnt_day\n",
      "484683  15.05.2013               4       32     2973        -1.0           1.0\n",
      "\n",
      "\n",
      "The precent of negative values in sales_train table in item_cnt_day column: 0.25056\n",
      "\n",
      "\n",
      "            date  date_block_num  shop_id  item_id  item_price  item_cnt_day\n",
      "2     05.01.2013               0       25     2552       899.0          -1.0\n",
      "148   23.01.2013               0       25     2321       999.0          -1.0\n",
      "175   07.01.2013               0       25     2199      1449.0          -1.0\n",
      "807   02.01.2013               0       25     2330       599.0          -1.0\n",
      "1041  13.01.2013               0       25     5034      1989.0          -1.0\n",
      "\n",
      "\n"
     ]
    }
   ],
   "source": [
    "dqc.are_there_any_negative_values()"
   ]
  },
  {
   "cell_type": "markdown",
   "id": "c3f10f79",
   "metadata": {},
   "source": [
    "Negative item_price can be deleted."
   ]
  },
  {
   "cell_type": "code",
   "execution_count": 9,
   "id": "82b1648b",
   "metadata": {},
   "outputs": [
    {
     "name": "stdout",
     "output_type": "stream",
     "text": [
      "Amount of unique dates: 1023\n"
     ]
    },
    {
     "data": {
      "image/png": "[encoded data removed]",
      "text/plain": [
       "<Figure size 432x288 with 1 Axes>"
      ]
     },
     "metadata": {},
     "output_type": "display_data"
    },
    {
     "data": {
      "image/png": "[encoded data removed]",
      "text/plain": [
       "<Figure size 432x288 with 1 Axes>"
      ]
     },
     "metadata": {},
     "output_type": "display_data"
    }
   ],
   "source": [
    "dqc.is_actually_a_return()"
   ]
  },
  {
   "cell_type": "markdown",
   "id": "017edc6b",
   "metadata": {},
   "source": [
    "Returns happen with a lot of different type of items in a lot of different shops. The dates are also pretty diverse."
   ]
  },
  {
   "cell_type": "code",
   "execution_count": 10,
   "id": "cd32d7db",
   "metadata": {},
   "outputs": [
    {
     "data": {
      "text/plain": [
       "['Table items contains 0 empty raws',\n",
       " 'Table item_categories contains 0 empty raws',\n",
       " 'Table sales_train contains 0 empty raws',\n",
       " 'Table sample_submission contains 0 empty raws',\n",
       " 'Table shops contains 0 empty raws',\n",
       " 'Table test contains 0 empty raws']"
      ]
     },
     "execution_count": 10,
     "metadata": {},
     "output_type": "execute_result"
    }
   ],
   "source": [
    "dqc.are_there_any_null_values()"
   ]
  },
  {
   "cell_type": "markdown",
   "id": "2d9475e4",
   "metadata": {},
   "source": [
    "No missing data."
   ]
  },
  {
   "cell_type": "code",
   "execution_count": 11,
   "id": "97364860",
   "metadata": {},
   "outputs": [
    {
     "data": {
      "text/plain": [
       "\"The amount of duplicated data in all the tables: 6; Tables with duplicates: ['sales_train']\""
      ]
     },
     "execution_count": 11,
     "metadata": {},
     "output_type": "execute_result"
    }
   ],
   "source": [
    "dqc.are_there_any_duplicates()"
   ]
  },
  {
   "cell_type": "markdown",
   "id": "0db40094",
   "metadata": {},
   "source": [
    "Found some duplicated rows. Only 6, so it can be safely deleted or ignored."
   ]
  },
  {
   "cell_type": "code",
   "execution_count": 12,
   "id": "ee74d1e3",
   "metadata": {},
   "outputs": [
    {
     "name": "stdout",
     "output_type": "stream",
     "text": [
      "There are no numeric columns in items table\n",
      "There are no numeric columns in item_categories table\n",
      "There are no numeric columns in shops table\n",
      "There are no numeric columns in test table\n"
     ]
    },
    {
     "data": {
      "image/png": "[encoded data removed]",
      "text/plain": [
       "<Figure size 432x288 with 1 Axes>"
      ]
     },
     "metadata": {
      "needs_background": "light"
     },
     "output_type": "display_data"
    },
    {
     "data": {
      "image/png": "[encoded data removed]",
      "text/plain": [
       "<Figure size 432x288 with 1 Axes>"
      ]
     },
     "metadata": {
      "needs_background": "light"
     },
     "output_type": "display_data"
    }
   ],
   "source": [
    "dqc.are_there_any_outliers()"
   ]
  },
  {
   "cell_type": "markdown",
   "id": "9191419c",
   "metadata": {},
   "source": [
    "Explicit outliers in item_price.\n"
   ]
  }
 ],
 "metadata": {
  "kernelspec": {
   "display_name": "Python 3 (ipykernel)",
   "language": "python",
   "name": "python3"
  },
  "language_info": {
   "codemirror_mode": {
    "name": "ipython",
    "version": 3
   },
   "file_extension": ".py",
   "mimetype": "text/x-python",
   "name": "python",
   "nbconvert_exporter": "python",
   "pygments_lexer": "ipython3",
   "version": "3.9.7"
  }
 },
 "nbformat": 4,
 "nbformat_minor": 5
}
